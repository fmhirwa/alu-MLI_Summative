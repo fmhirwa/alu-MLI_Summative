{
  "nbformat": 4,
  "nbformat_minor": 0,
  "metadata": {
    "colab": {
      "provenance": [],
      "gpuType": "T4",
      "authorship_tag": "ABX9TyNmWcQnC5ED9HN6WEU6XQsn",
      "include_colab_link": true
    },
    "kernelspec": {
      "name": "python3",
      "display_name": "Python 3"
    },
    "language_info": {
      "name": "python"
    },
    "accelerator": "GPU"
  },
  "cells": [
    {
      "cell_type": "markdown",
      "metadata": {
        "id": "view-in-github",
        "colab_type": "text"
      },
      "source": [
        "<a href=\"https://colab.research.google.com/github/fmhirwa/alu-MLI_Summative/blob/main/Chatbot_ALU_admissions.ipynb\" target=\"_parent\"><img src=\"https://colab.research.google.com/assets/colab-badge.svg\" alt=\"Open In Colab\"/></a>"
      ]
    },
    {
      "cell_type": "code",
      "source": [
        "1. Tokenization + Preprocessing"
      ],
      "metadata": {
        "id": "7anx7iOgTym3"
      },
      "execution_count": null,
      "outputs": []
    },
    {
      "cell_type": "code",
      "source": [
        "# Import necessary classes from tokenizers and transformers\n",
        "from tokenizers import Tokenizer\n",
        "from tokenizers.models import BPE\n",
        "from tokenizers.trainers import BpeTrainer\n",
        "from tokenizers.pre_tokenizers import Whitespace\n",
        "from transformers import PreTrainedTokenizerFast\n",
        "\n",
        "# Step 1: Initialize the tokenizer with the BPE model and specify the unknown token\n",
        "tokenizer = Tokenizer(BPE(unk_token=\"[UNK]\"))\n",
        "\n",
        "# Step 2: Create a trainer with special tokens you want to include\n",
        "trainer = BpeTrainer(special_tokens=[\"[UNK]\", \"[CLS]\", \"[SEP]\", \"[PAD]\", \"[MASK]\"])\n",
        "\n",
        "# Step 3: Set the pre-tokenizer to split text by whitespace\n",
        "tokenizer.pre_tokenizer = Whitespace()\n",
        "\n",
        "# Step 4: Define the list of file paths that the tokenizer will be trained on.\n",
        "# Replace the file paths with your actual data files (make sure the file exists)\n",
        "files = [\"data/file1.txt\"]\n",
        "\n",
        "# Step 5: Train the tokenizer on the specified files using the trainer\n",
        "tokenizer.train(files, trainer)\n",
        "\n",
        "# Optionally, save the trained tokenizer to a JSON file for future re-use\n",
        "tokenizer.save(\"tokenizer.json\")\n",
        "\n",
        "# Step 6: Load the trained tokenizer into the Transformers library as a fast tokenizer\n",
        "# Option A: Directly from the tokenizer object\n",
        "fast_tokenizer = PreTrainedTokenizerFast(tokenizer_object=tokenizer)\n",
        "\n",
        "# Option B: Alternatively, load from the saved JSON file (uncomment the next line if needed)\n",
        "# fast_tokenizer = PreTrainedTokenizerFast(tokenizer_file=\"tokenizer.json\")\n",
        "\n",
        "# Example usage: Encode some sample text using the fast tokenizer\n",
        "sample_text = \"Welcome to African Leadership University.\"\n",
        "encoded = fast_tokenizer.encode(sample_text)\n",
        "\n",
        "# Print the encoded token IDs directly (encoded is a list of token IDs)\n",
        "print(\"Encoded IDs:\", encoded)\n",
        "\n",
        "# Alternatively, you can use encode_plus for more detailed output\n",
        "encoded_plus = fast_tokenizer.encode_plus(\n",
        "    sample_text,\n",
        "    add_special_tokens=True,\n",
        ")\n",
        "print(\"Encoded IDs using encode_plus:\", encoded_plus[\"input_ids\"])\n",
        "\n",
        "# Print the tokenized output (tokens as strings)\n",
        "print(\"Tokenized Output:\", fast_tokenizer.tokenize(sample_text))\n"
      ],
      "metadata": {
        "colab": {
          "base_uri": "https://localhost:8080/"
        },
        "id": "56IvYbP_NrxO",
        "outputId": "f25449f7-203c-46ed-8ef8-28aab8c1b10f"
      },
      "execution_count": 1,
      "outputs": [
        {
          "output_type": "stream",
          "name": "stdout",
          "text": [
            "Encoded IDs: [42, 409, 139, 51, 115, 375, 251, 668, 12]\n",
            "Encoded IDs using encode_plus: [42, 409, 139, 51, 115, 375, 251, 668, 12]\n",
            "Tokenized Output: ['W', 'el', 'com', 'e', 'to', 'African', 'Leadership', 'University', '.']\n"
          ]
        }
      ]
    },
    {
      "cell_type": "code",
      "source": [
        "FIne Tuning"
      ],
      "metadata": {
        "id": "F6V5s9VKTwmC"
      },
      "execution_count": null,
      "outputs": []
    },
    {
      "cell_type": "code",
      "execution_count": 12,
      "metadata": {
        "id": "wh5K1NFDev-t",
        "colab": {
          "base_uri": "https://localhost:8080/",
          "height": 286
        },
        "outputId": "a9ada14d-e149-42cf-965b-d8690acacb4a"
      },
      "outputs": [
        {
          "output_type": "stream",
          "name": "stderr",
          "text": [
            "/usr/local/lib/python3.11/dist-packages/transformers/data/datasets/language_modeling.py:53: FutureWarning: This dataset will be removed from the library soon, preprocessing should be handled with the 🤗 Datasets library. You can have a look at this example script for pointers: https://github.com/huggingface/transformers/blob/main/examples/pytorch/language-modeling/run_mlm.py\n",
            "  warnings.warn(\n",
            "Token indices sequence length is longer than the specified maximum sequence length for this model (1794 > 1024). Running this sequence through the model will result in indexing errors\n",
            "/usr/local/lib/python3.11/dist-packages/transformers/training_args.py:1575: FutureWarning: `evaluation_strategy` is deprecated and will be removed in version 4.46 of 🤗 Transformers. Use `eval_strategy` instead\n",
            "  warnings.warn(\n"
          ]
        },
        {
          "output_type": "display_data",
          "data": {
            "text/plain": [
              "<IPython.core.display.HTML object>"
            ],
            "text/html": [
              "\n",
              "    <div>\n",
              "      \n",
              "      <progress value='105' max='105' style='width:300px; height:20px; vertical-align: middle;'></progress>\n",
              "      [105/105 00:21, Epoch 15/15]\n",
              "    </div>\n",
              "    <table border=\"1\" class=\"dataframe\">\n",
              "  <thead>\n",
              " <tr style=\"text-align: left;\">\n",
              "      <th>Step</th>\n",
              "      <th>Training Loss</th>\n",
              "      <th>Validation Loss</th>\n",
              "    </tr>\n",
              "  </thead>\n",
              "  <tbody>\n",
              "  </tbody>\n",
              "</table><p>"
            ]
          },
          "metadata": {}
        },
        {
          "output_type": "execute_result",
          "data": {
            "text/plain": [
              "('./gpt2-finetuned-alu/tokenizer_config.json',\n",
              " './gpt2-finetuned-alu/special_tokens_map.json',\n",
              " './gpt2-finetuned-alu/vocab.json',\n",
              " './gpt2-finetuned-alu/merges.txt',\n",
              " './gpt2-finetuned-alu/added_tokens.json',\n",
              " './gpt2-finetuned-alu/tokenizer.json')"
            ]
          },
          "metadata": {},
          "execution_count": 12
        }
      ],
      "source": [
        "import os\n",
        "from transformers import (\n",
        "    GPT2LMHeadModel,\n",
        "    GPT2TokenizerFast,\n",
        "    TextDataset,\n",
        "    DataCollatorForLanguageModeling,\n",
        "    Trainer,\n",
        "    TrainingArguments\n",
        ")\n",
        "\n",
        "# Define function to load a text dataset for language modeling\n",
        "def load_dataset(file_path, tokenizer, block_size=128):\n",
        "    return TextDataset(\n",
        "        tokenizer=tokenizer,\n",
        "        file_path=file_path,\n",
        "        block_size=block_size,\n",
        "        overwrite_cache=True\n",
        "    )\n",
        "\n",
        "# Paths to your training and validation text files\n",
        "train_file = \"./data/ALU_train.txt\"  # Contains your ALU info & conversational pairs\n",
        "val_file = \"./data/ALU_val.txt\"\n",
        "\n",
        "# Load the pre-trained GPT-2 model and tokenizer\n",
        "model_name = \"gpt2\"\n",
        "model = GPT2LMHeadModel.from_pretrained(model_name)\n",
        "tokenizer = GPT2TokenizerFast.from_pretrained(model_name)\n",
        "\n",
        "# If you want to use your custom tokenizer from token_code.py, you could load it like this:\n",
        "# from transformers import PreTrainedTokenizerFast\n",
        "# tokenizer = PreTrainedTokenizerFast(tokenizer_file=\"tokenizer.json\")\n",
        "\n",
        "# Create datasets\n",
        "train_dataset = load_dataset(train_file, tokenizer, block_size=128)\n",
        "val_dataset = load_dataset(val_file, tokenizer, block_size=128) if os.path.exists(val_file) else None\n",
        "\n",
        "# Create a data collator for language modeling (no masking for GPT-2)\n",
        "data_collator = DataCollatorForLanguageModeling(tokenizer=tokenizer, mlm=False)\n",
        "\n",
        "# Define training hyperparameters using TrainingArguments\n",
        "training_args = TrainingArguments(\n",
        "    output_dir=\"./gpt2-finetuned-alu\",\n",
        "    overwrite_output_dir=True,\n",
        "    num_train_epochs= 15,                  # Adjust number of epochs as needed\n",
        "    per_device_train_batch_size=2,       # Adjust batch size based on your hardware\n",
        "    per_device_eval_batch_size=2,\n",
        "    evaluation_strategy=\"steps\" if val_dataset else \"no\",\n",
        "    eval_steps=500,                      # Evaluation frequency (if using validation)\n",
        "    logging_steps=100,\n",
        "    save_steps=500,\n",
        "    learning_rate=5e-5,\n",
        "    weight_decay=0.01,\n",
        "    report_to=\"none\",                    # Set to \"tensorboard\" or \"wandb\" if desired\n",
        ")\n",
        "\n",
        "# Initialize the Trainer\n",
        "trainer = Trainer(\n",
        "    model=model,\n",
        "    args=training_args,\n",
        "    data_collator=data_collator,\n",
        "    train_dataset=train_dataset,\n",
        "    eval_dataset=val_dataset,\n",
        ")\n",
        "\n",
        "# Start fine-tuning the model\n",
        "trainer.train()\n",
        "\n",
        "# Save the fine-tuned model and tokenizer for later use\n",
        "model.save_pretrained(\"./gpt2-finetuned-alu\")\n",
        "tokenizer.save_pretrained(\"./gpt2-finetuned-alu\")\n"
      ]
    },
    {
      "cell_type": "markdown",
      "source": [
        "3. Evaluation"
      ],
      "metadata": {
        "id": "cF8RdH0STsEW"
      }
    },
    {
      "cell_type": "code",
      "source": [
        "import os\n",
        "import re\n",
        "import torch\n",
        "import matplotlib.pyplot as plt\n",
        "from transformers import GPT2LMHeadModel, GPT2TokenizerFast\n",
        "from nltk.translate.bleu_score import sentence_bleu, SmoothingFunction\n",
        "\n",
        "# Load fine-tuned GPT-2 model and tokenizer\n",
        "model_dir = \"./gpt2-finetuned-alu\"\n",
        "model = GPT2LMHeadModel.from_pretrained(model_dir)\n",
        "tokenizer = GPT2TokenizerFast.from_pretrained(model_dir)\n",
        "model.eval()\n",
        "\n",
        "def compute_f1(prediction, reference):\n",
        "    pred_tokens = prediction.split()\n",
        "    ref_tokens = reference.split()\n",
        "    common = set(pred_tokens) & set(ref_tokens)\n",
        "    if not common:\n",
        "        return 0.0\n",
        "    precision = len(common) / len(pred_tokens)\n",
        "    recall = len(common) / len(ref_tokens)\n",
        "    if precision + recall == 0:\n",
        "        return 0.0\n",
        "    return 2 * (precision * recall) / (precision + recall)\n",
        "\n",
        "# Load evaluation prompts and references\n",
        "with open(\"./data/ALU_val.txt\", \"r\", encoding=\"utf-8\") as f:\n",
        "    eval_data = f.read()\n",
        "\n",
        "pattern = r\"\\[Prompt \\d+\\]\\s*Q:\\s*(.*?)\\s*A:\\s*(.*?)\\s*(?=\\[Prompt \\d+\\]|$)\"\n",
        "matches = re.findall(pattern, eval_data, re.DOTALL)\n",
        "prompts, references = zip(*[(m[0].strip(), m[1].strip()) for m in matches])\n",
        "\n",
        "# Evaluate each prompt\n",
        "bleu_scores, f1_scores, generated_responses = [], [], []\n",
        "for prompt, ref in zip(prompts, references):\n",
        "    input_ids = tokenizer.encode(prompt, return_tensors=\"pt\")\n",
        "    attention_mask = torch.ones_like(input_ids)  # ✅ Added attention_mask\n",
        "    with torch.no_grad():\n",
        "        output_ids = model.generate(\n",
        "            input_ids,\n",
        "            attention_mask=attention_mask,\n",
        "            max_length=150,\n",
        "            num_beams=5,\n",
        "            no_repeat_ngram_size=2,\n",
        "            early_stopping=True,\n",
        "            pad_token_id=tokenizer.eos_token_id  # ✅ Correct pad_token_id\n",
        "        )\n",
        "    generated_text = tokenizer.decode(output_ids[0], skip_special_tokens=True)\n",
        "    generated_text = generated_text[len(prompt):].strip() if generated_text.startswith(prompt) else generated_text\n",
        "    generated_responses.append(generated_text)\n",
        "\n",
        "    smoothing_fn = SmoothingFunction().method1\n",
        "    bleu = sentence_bleu([ref.split()], generated_text.split(), smoothing_function=smoothing_fn)\n",
        "    f1 = compute_f1(generated_text, ref)\n",
        "    bleu_scores.append(bleu)\n",
        "    f1_scores.append(f1)\n",
        "\n",
        "    print(f\"Prompt: {prompt}\\nReference: {ref}\\nGenerated: {generated_text}\\nBLEU: {bleu:.4f}, F1: {f1:.4f}\\n\" + \"-\"*50)\n",
        "\n",
        "# Plot BLEU and F1 scores\n",
        "x = range(1, len(prompts) + 1)\n",
        "plt.figure(figsize=(12, 5))\n",
        "plt.subplot(1, 2, 1)\n",
        "plt.bar(x, bleu_scores, color='skyblue')\n",
        "plt.xlabel(\"Prompt Number\")\n",
        "plt.ylabel(\"BLEU Score\")\n",
        "plt.title(\"BLEU Scores per Prompt\")\n",
        "\n",
        "plt.subplot(1, 2, 2)\n",
        "plt.bar(x, f1_scores, color='lightgreen')\n",
        "plt.xlabel(\"Prompt Number\")\n",
        "plt.ylabel(\"F1 Score\")\n",
        "plt.title(\"F1 Scores per Prompt\")\n",
        "\n",
        "plt.tight_layout()\n",
        "plt.show()\n",
        "\n",
        "# Summary Metrics\n",
        "print(f\"Average BLEU Score: {sum(bleu_scores)/len(bleu_scores):.4f}\")\n",
        "print(f\"Average F1 Score: {sum(f1_scores)/len(f1_scores):.4f}\")\n"
      ],
      "metadata": {
        "colab": {
          "base_uri": "https://localhost:8080/",
          "height": 1000
        },
        "id": "qI0rFDtkQcz9",
        "outputId": "26d8a543-6e61-4842-859b-2511fa3b187e"
      },
      "execution_count": 15,
      "outputs": [
        {
          "output_type": "stream",
          "name": "stdout",
          "text": [
            "Prompt: What is African Leadership University?\n",
            "Reference: African Leadership University (ALU) is committed to transforming higher education in Africa by developing ethical and entrepreneurial leaders. With campuses in Rwanda and Mauritius, ALU offers a unique learning experience that emphasizes real-world problem-solving and leadership development.\n",
            "Generated: African Leadership (ALU) is committed to transforming higher education in Africa by developing leaders who are passionate about shaping Africa’s future. With campuses in Rwanda and Mauritius, ALU offers a unique learning experience that emphasizes leadership, problem-solving, and leadership development. Students begin their studies on the Kigali campus, offering experiential learning programs and internships.\n",
            "\n",
            "\n",
            "\n",
            "\n",
            "What are the admissions requirements for admission?\n",
            "\n",
            ": Applicants must have completed their final national secondary school examinations, including the BSc (Hons) in International Business and Trade (IBT), delivered on time, in accordance with the Higher Education Council of Rwanda (HEc) accreditation process. Specific requirements\n",
            "BLEU: 0.2471, F1: 0.4118\n",
            "--------------------------------------------------\n",
            "Prompt: What programs are offered at ALU?\n",
            "Reference: ALU offers a variety of programs, including:\n",
            "   - BSc (Hons) International Business and Trade (IBT): Focuses on global business, international trade, and economic integration.\n",
            "   - BSc (Hons) Entrepreneurial Leadership: Emphasizes leadership, innovation, and practical problem-solving.\n",
            "   - BSc (Hons) Software Engineering: In partnership with the Holberton School, this program builds industry-relevant software engineering skills.\n",
            "Generated: The Bachelor of Science in Entrepreneurial Leadership (BSc (Hons) in International Business and Trade (IBT) is accredited by the Council of Higher Education (CALU) of Rwanda. Applicants should submit proof of secondary education completion, financial need, and national identification documents.\n",
            "\n",
            "\n",
            "\n",
            " What are the requirements to apply for a BSc degree in Rwanda?\n",
            " Students must have completed their final secondary school examinations, including the A-level equivalent, to be considered for admission. Specific requirements may vary based on individual school requirements and campus location. For specific requirements, see the admissions page.\n",
            "What is the difference between the Rwanda Leadership College (RLC) and the Kigali\n",
            "BLEU: 0.0296, F1: 0.1419\n",
            "--------------------------------------------------\n",
            "Prompt: How do I apply to ALU?\n",
            "Reference: The ALU application is completed online. Applicants must fill out a basic form with personal details, submit supporting documents (such as academic transcripts and identification), and review financial commitments and available aid options.\n",
            "Generated: Applicants must submit proof of secondary education completion, financial need, and national identification documents.\n",
            "\n",
            "\n",
            "\n",
            "\n",
            "What are the requirements to transfer to another university?\n",
            "\n",
            " The admissions process involves two stages: establishing a personal profile on the admissions portal and submitting a formal application. Details about each stage can be obtained from admissions@alueducation.com or by calling 1-800-263-HELP (8477). For complete details on admissions, contact information, or to submit an application, visit the Transfer Application Process page.\n",
            "When will I receive an official decision from the Higher Education Council (HEC)?\n",
            " The Council reviews applications on a rolling basis, typically providing decisions within two weeks\n",
            "BLEU: 0.0055, F1: 0.1194\n",
            "--------------------------------------------------\n",
            "Prompt: What are the tuition fees at ALU?\n",
            "Reference: The annual tuition fee at ALU is $3,000 per year. Additional costs for accommodation, meals, and study materials may apply. Flexible payment plans are available.\n",
            "Generated: The tuition fee is $3,000 per year. For more information, contact the admissions office.\n",
            "\n",
            "\n",
            "What is the difference between the Bachelor of Science in Electrical Power Systems Engineering (SSE) and the equivalent equivalent program at other colleges and universities in the United States?\n",
            "\n",
            " The two programs are distinct, but each offers unique programs and accreditation requirements. Details about each program are available on the admission office's website or by calling 1-800-273-8255. Applicants should submit proof of secondary education completion and financial need, as well as financial aid documents, to strengthen their chances of pursuing a career in electrical power systems engineering. Financial aid requests should be directed to the individual\n",
            "BLEU: 0.0276, F1: 0.1481\n",
            "--------------------------------------------------\n",
            "Prompt: Does ALU offer financial aid?\n",
            "Reference: Yes, ALU offers need-based scholarships and grants. Eligibility is determined based on financial need, academic potential, and other criteria. Priority is given to certain groups, such as females, refugees, and displaced individuals.\n",
            "Generated: Yes, the admissions team reviews applications from across the country to assess their potential. Applicants should submit proof of financial need and financial commitments, as well as supporting documentation.\n",
            "\n",
            "\n",
            "\n",
            "\n",
            "When will I receive an admissions decision?\n",
            "\n",
            " A decision is typically sent within two weeks of submission. For specific admissions periods, decisions are sent as applications are received.\n",
            "What documents are required to submit an application? (PDF, 16.3K)\n",
            " The application documents must include:\n",
            "—identification documents (e.g., driver's license, birth certificate, passport, national identification document, etc.)\n",
            "A copy of all federal, state, and local income tax returns (Form 1040 or FED\n",
            "BLEU: 0.0030, F1: 0.0916\n",
            "--------------------------------------------------\n"
          ]
        },
        {
          "output_type": "display_data",
          "data": {
            "text/plain": [
              "<Figure size 1200x500 with 2 Axes>"
            ],
            "image/png": "[encoded data removed]"
          },
          "metadata": {}
        },
        {
          "output_type": "stream",
          "name": "stdout",
          "text": [
            "Average BLEU Score: 0.0625\n",
            "Average F1 Score: 0.1826\n"
          ]
        }
      ]
    },
    {
      "cell_type": "code",
      "source": [
        "!pip install -q gradio"
      ],
      "metadata": {
        "colab": {
          "base_uri": "https://localhost:8080/"
        },
        "id": "bsASysOcSMsy",
        "outputId": "101490d3-9ace-41a3-e793-6d29867aa65e"
      },
      "execution_count": 9,
      "outputs": [
        {
          "output_type": "stream",
          "name": "stdout",
          "text": [
            "\u001b[2K   \u001b[90m━━━━━━━━━━━━━━━━━━━━━━━━━━━━━━━━━━━━━━━━\u001b[0m \u001b[32m62.3/62.3 MB\u001b[0m \u001b[31m10.6 MB/s\u001b[0m eta \u001b[36m0:00:00\u001b[0m\n",
            "\u001b[2K   \u001b[90m━━━━━━━━━━━━━━━━━━━━━━━━━━━━━━━━━━━━━━━━\u001b[0m \u001b[32m322.0/322.0 kB\u001b[0m \u001b[31m9.0 MB/s\u001b[0m eta \u001b[36m0:00:00\u001b[0m\n",
            "\u001b[2K   \u001b[90m━━━━━━━━━━━━━━━━━━━━━━━━━━━━━━━━━━━━━━━━\u001b[0m \u001b[32m94.8/94.8 kB\u001b[0m \u001b[31m3.8 MB/s\u001b[0m eta \u001b[36m0:00:00\u001b[0m\n",
            "\u001b[2K   \u001b[90m━━━━━━━━━━━━━━━━━━━━━━━━━━━━━━━━━━━━━━━━\u001b[0m \u001b[32m12.6/12.6 MB\u001b[0m \u001b[31m22.5 MB/s\u001b[0m eta \u001b[36m0:00:00\u001b[0m\n",
            "\u001b[2K   \u001b[90m━━━━━━━━━━━━━━━━━━━━━━━━━━━━━━━━━━━━━━━━\u001b[0m \u001b[32m71.5/71.5 kB\u001b[0m \u001b[31m2.5 MB/s\u001b[0m eta \u001b[36m0:00:00\u001b[0m\n",
            "\u001b[2K   \u001b[90m━━━━━━━━━━━━━━━━━━━━━━━━━━━━━━━━━━━━━━━━\u001b[0m \u001b[32m62.3/62.3 kB\u001b[0m \u001b[31m4.0 MB/s\u001b[0m eta \u001b[36m0:00:00\u001b[0m\n",
            "\u001b[?25h"
          ]
        }
      ]
    },
    {
      "cell_type": "code",
      "source": [
        "import gradio as gr\n",
        "import torch\n",
        "from transformers import GPT2LMHeadModel, GPT2TokenizerFast\n",
        "\n",
        "# Load the fine-tuned GPT-2 model and tokenizer\n",
        "model_dir = \"./gpt2-finetuned-alu\"\n",
        "model = GPT2LMHeadModel.from_pretrained(model_dir)\n",
        "tokenizer = GPT2TokenizerFast.from_pretrained(model_dir)\n",
        "model.eval()\n",
        "\n",
        "def generate_response(user_input):\n",
        "    \"\"\"\n",
        "    Generate a response from the fine-tuned GPT-2 model based on user input.\n",
        "    \"\"\"\n",
        "    # Encode the user input text\n",
        "    input_ids = tokenizer.encode(user_input, return_tensors=\"pt\")\n",
        "    # Generate a response using beam search for quality output\n",
        "    with torch.no_grad():\n",
        "        output_ids = model.generate(\n",
        "            input_ids,\n",
        "            max_length=150,\n",
        "            num_beams=5,\n",
        "            no_repeat_ngram_size=2,\n",
        "            early_stopping=True\n",
        "        )\n",
        "    # Decode the generated tokens to string and remove the prompt if repeated\n",
        "    generated_text = tokenizer.decode(output_ids[0], skip_special_tokens=True)\n",
        "    if generated_text.startswith(user_input):\n",
        "        generated_text = generated_text[len(user_input):].strip()\n",
        "    return generated_text\n",
        "\n",
        "# Define the Gradio interface using the updated API\n",
        "iface = gr.Interface(\n",
        "    fn=generate_response,\n",
        "    inputs=gr.Textbox(\n",
        "        lines=2,\n",
        "        placeholder=\"Enter your query about ALU (e.g., 'How do I apply to ALU?')\"\n",
        "    ),\n",
        "    outputs=gr.Textbox(),\n",
        "    title=\"ALU Chatbot\",\n",
        "    description=(\n",
        "        \"Welcome to the ALU Chatbot! Ask any questions about admissions, programs, \"\n",
        "        \"and financial aid at African Leadership University. The chatbot uses a fine-tuned GPT-2 model \"\n",
        "        \"to generate accurate and contextually relevant responses.\"\n",
        "    ),\n",
        "    theme=\"default\"\n",
        ")\n",
        "\n",
        "# Launch the interface (set share=True if you need a public URL)\n",
        "iface.launch()\n"
      ],
      "metadata": {
        "colab": {
          "base_uri": "https://localhost:8080/",
          "height": 646
        },
        "id": "rnUEoID9R9i2",
        "outputId": "06157add-9c31-40ca-e1de-2e164f925a2c"
      },
      "execution_count": 11,
      "outputs": [
        {
          "output_type": "stream",
          "name": "stdout",
          "text": [
            "Running Gradio in a Colab notebook requires sharing enabled. Automatically setting `share=True` (you can turn this off by setting `share=False` in `launch()` explicitly).\n",
            "\n",
            "Colab notebook detected. To show errors in colab notebook, set debug=True in launch()\n",
            "* Running on public URL: https://ae98a17cf0a978d44c.gradio.live\n",
            "\n",
            "This share link expires in 72 hours. For free permanent hosting and GPU upgrades, run `gradio deploy` from the terminal in the working directory to deploy to Hugging Face Spaces (https://huggingface.co/spaces)\n"
          ]
        },
        {
          "output_type": "display_data",
          "data": {
            "text/plain": [
              "<IPython.core.display.HTML object>"
            ],
            "text/html": [
              "<div><iframe src=\"https://ae98a17cf0a978d44c.gradio.live\" width=\"100%\" height=\"500\" allow=\"autoplay; camera; microphone; clipboard-read; clipboard-write;\" frameborder=\"0\" allowfullscreen></iframe></div>"
            ]
          },
          "metadata": {}
        },
        {
          "output_type": "execute_result",
          "data": {
            "text/plain": []
          },
          "metadata": {},
          "execution_count": 11
        }
      ]
    }
  ]
}