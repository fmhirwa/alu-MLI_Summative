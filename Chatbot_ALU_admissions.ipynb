{
  "nbformat": 4,
  "nbformat_minor": 0,
  "metadata": {
    "colab": {
      "provenance": [],
      "gpuType": "T4",
      "authorship_tag": "ABX9TyOyZa6nP3QXQjCxPkSacxzG",
      "include_colab_link": true
    },
    "kernelspec": {
      "name": "python3",
      "display_name": "Python 3"
    },
    "language_info": {
      "name": "python"
    },
    "accelerator": "GPU"
  },
  "cells": [
    {
      "cell_type": "markdown",
      "metadata": {
        "id": "view-in-github",
        "colab_type": "text"
      },
      "source": [
        "<a href=\"https://colab.research.google.com/github/fmhirwa/alu-MLI_Summative/blob/main/Chatbot_ALU_admissions.ipynb\" target=\"_parent\"><img src=\"https://colab.research.google.com/assets/colab-badge.svg\" alt=\"Open In Colab\"/></a>"
      ]
    },
    {
      "cell_type": "markdown",
      "source": [
        "**ALU Admissions CHatbot**"
      ],
      "metadata": {
        "id": "7MIADc-s_20T"
      }
    },
    {
      "cell_type": "markdown",
      "source": [
        "Steps\n",
        "1. Tokenization\n",
        "2. Fine tuning GPT 2 From OpenAI\n",
        "3. Evaluation against Eval\n",
        "4. UI with Gradio"
      ],
      "metadata": {
        "id": "gH1-DvlkC5XV"
      }
    },
    {
      "cell_type": "markdown",
      "source": [
        "1. Tokenization + Preprocessing"
      ],
      "metadata": {
        "id": "QbQOHNQTxB7E"
      }
    },
    {
      "cell_type": "code",
      "source": [
        "# Import necessary classes from tokenizers and transformers\n",
        "from tokenizers import Tokenizer\n",
        "from tokenizers.models import BPE\n",
        "from tokenizers.trainers import BpeTrainer\n",
        "from tokenizers.pre_tokenizers import Whitespace\n",
        "from transformers import PreTrainedTokenizerFast\n",
        "\n",
        "# Step 1: Initialize the tokenizer with the BPE model and specify the unknown token\n",
        "tokenizer = Tokenizer(BPE(unk_token=\"[UNK]\"))\n",
        "\n",
        "# Step 2: Create a trainer with special tokens you want to include\n",
        "trainer = BpeTrainer(special_tokens=[\"[UNK]\", \"[CLS]\", \"[SEP]\", \"[PAD]\", \"[MASK]\"])\n",
        "\n",
        "# Step 3: Set the pre-tokenizer to split text by whitespace\n",
        "tokenizer.pre_tokenizer = Whitespace()\n",
        "\n",
        "# Step 4: Define the list of file paths that the tokenizer will be trained on.\n",
        "files = [\"data/file1.txt\", \"data/ALU_train2.txt\", \"data/ALU_val3.txt\"]\n",
        "\n",
        "# Step 5: Train the tokenizer on the specified files using the trainer\n",
        "tokenizer.train(files, trainer)\n",
        "\n",
        "# The trained tokenizer to a JSON file for future re-use\n",
        "tokenizer.save(\"tokenizer.json\")\n",
        "\n",
        "# Step 6: Load the trained tokenizer into the Transformers library as a fast tokenizer\n",
        "# Directly from the tokenizer object\n",
        "fast_tokenizer = PreTrainedTokenizerFast(tokenizer_object=tokenizer)\n",
        "\n",
        "# Alternatively, load from the saved JSON file (uncomment the next line if needed)\n",
        "# fast_tokenizer = PreTrainedTokenizerFast(tokenizer_file=\"tokenizer.json\")\n",
        "\n",
        "# Encode some sample text using the fast tokenizer\n",
        "sample_text = \"Welcome to African Leadership University.\"\n",
        "encoded = fast_tokenizer.encode(sample_text)\n",
        "\n",
        "# Print the encoded token IDs directly (encoded is a list of token IDs)\n",
        "print(\"Encoded IDs:\", encoded)\n",
        "\n",
        "\n",
        "encoded_plus = fast_tokenizer.encode_plus(\n",
        "    sample_text,\n",
        "    add_special_tokens=True,\n",
        ")\n",
        "print(\"Encoded IDs using encode_plus:\", encoded_plus[\"input_ids\"])\n",
        "\n",
        "# Print the tokenized output (tokens as strings)\n",
        "print(\"Tokenized Output:\", fast_tokenizer.tokenize(sample_text))\n"
      ],
      "metadata": {
        "colab": {
          "base_uri": "https://localhost:8080/"
        },
        "id": "56IvYbP_NrxO",
        "outputId": "b95143ca-7ee7-4c94-cd01-79009070a9b5"
      },
      "execution_count": 42,
      "outputs": [
        {
          "output_type": "stream",
          "name": "stdout",
          "text": [
            "Encoded IDs: [47, 314, 137, 56, 126, 436, 243, 577, 12]\n",
            "Encoded IDs using encode_plus: [47, 314, 137, 56, 126, 436, 243, 577, 12]\n",
            "Tokenized Output: ['W', 'el', 'com', 'e', 'to', 'African', 'Leadership', 'University', '.']\n"
          ]
        }
      ]
    },
    {
      "cell_type": "markdown",
      "source": [
        "2. Fine-tuning GPT2"
      ],
      "metadata": {
        "id": "DzMjWOHtxEYO"
      }
    },
    {
      "cell_type": "code",
      "execution_count": 52,
      "metadata": {
        "id": "wh5K1NFDev-t",
        "colab": {
          "base_uri": "https://localhost:8080/",
          "height": 286
        },
        "outputId": "5cb51750-40fa-4b11-8f0a-f3e3404b22b7"
      },
      "outputs": [
        {
          "output_type": "stream",
          "name": "stderr",
          "text": [
            "/usr/local/lib/python3.11/dist-packages/transformers/data/datasets/language_modeling.py:53: FutureWarning: This dataset will be removed from the library soon, preprocessing should be handled with the 🤗 Datasets library. You can have a look at this example script for pointers: https://github.com/huggingface/transformers/blob/main/examples/pytorch/language-modeling/run_mlm.py\n",
            "  warnings.warn(\n",
            "Token indices sequence length is longer than the specified maximum sequence length for this model (1250 > 1024). Running this sequence through the model will result in indexing errors\n",
            "/usr/local/lib/python3.11/dist-packages/transformers/training_args.py:1575: FutureWarning: `evaluation_strategy` is deprecated and will be removed in version 4.46 of 🤗 Transformers. Use `eval_strategy` instead\n",
            "  warnings.warn(\n"
          ]
        },
        {
          "output_type": "display_data",
          "data": {
            "text/plain": [
              "<IPython.core.display.HTML object>"
            ],
            "text/html": [
              "\n",
              "    <div>\n",
              "      \n",
              "      <progress value='250' max='250' style='width:300px; height:20px; vertical-align: middle;'></progress>\n",
              "      [250/250 01:03, Epoch 50/50]\n",
              "    </div>\n",
              "    <table border=\"1\" class=\"dataframe\">\n",
              "  <thead>\n",
              " <tr style=\"text-align: left;\">\n",
              "      <th>Step</th>\n",
              "      <th>Training Loss</th>\n",
              "      <th>Validation Loss</th>\n",
              "    </tr>\n",
              "  </thead>\n",
              "  <tbody>\n",
              "  </tbody>\n",
              "</table><p>"
            ]
          },
          "metadata": {}
        },
        {
          "output_type": "execute_result",
          "data": {
            "text/plain": [
              "('./gpt2-finetuned-alu/tokenizer_config.json',\n",
              " './gpt2-finetuned-alu/special_tokens_map.json',\n",
              " './gpt2-finetuned-alu/vocab.json',\n",
              " './gpt2-finetuned-alu/merges.txt',\n",
              " './gpt2-finetuned-alu/added_tokens.json',\n",
              " './gpt2-finetuned-alu/tokenizer.json')"
            ]
          },
          "metadata": {},
          "execution_count": 52
        }
      ],
      "source": [
        "import os\n",
        "from transformers import (\n",
        "    GPT2LMHeadModel,\n",
        "    GPT2TokenizerFast,\n",
        "    TextDataset,\n",
        "    DataCollatorForLanguageModeling,\n",
        "    Trainer,\n",
        "    TrainingArguments\n",
        ")\n",
        "\n",
        "# Define function to load a text dataset for language modeling\n",
        "def load_dataset(file_path, tokenizer, block_size=128):\n",
        "    return TextDataset(\n",
        "        tokenizer=tokenizer,\n",
        "        file_path=file_path,\n",
        "        block_size=block_size,\n",
        "        overwrite_cache=True\n",
        "    )\n",
        "\n",
        "# Paths to training and validation text files\n",
        "train_file = \"./data/ALU_train2.txt\"  # Contains ALU info & conversational pairs\n",
        "val_file = \"./data/ALU_val3.txt\"\n",
        "\n",
        "# Load the pre-trained GPT-2 model and tokenizer\n",
        "model_name = \"gpt2\"\n",
        "model = GPT2LMHeadModel.from_pretrained(model_name)\n",
        "tokenizer = GPT2TokenizerFast.from_pretrained(model_name)\n",
        "\n",
        "# Use custom tokenizer from token_code.py\n",
        "#from transformers import PreTrainedTokenizerFast\n",
        "#okenizer = PreTrainedTokenizerFast(tokenizer_file=\"tokenizer.json\")\n",
        "\n",
        "# Create datasets\n",
        "train_dataset = load_dataset(train_file, tokenizer, block_size=128)\n",
        "val_dataset = load_dataset(val_file, tokenizer, block_size=128) if os.path.exists(val_file) else None\n",
        "\n",
        "# Create a data collator for language modeling (no masking for GPT-2)\n",
        "data_collator = DataCollatorForLanguageModeling(tokenizer=tokenizer, mlm=False)\n",
        "\n",
        "# Define training hyperparameters using TrainingArguments\n",
        "training_args = TrainingArguments(\n",
        "    output_dir=\"./gpt2-finetuned-alu\",\n",
        "    overwrite_output_dir=True,\n",
        "    num_train_epochs= 50,                  # number of epochs\n",
        "    per_device_train_batch_size=2,       # batch size based on hardware\n",
        "    per_device_eval_batch_size=2,\n",
        "    evaluation_strategy=\"steps\" if val_dataset else \"no\",\n",
        "    eval_steps=500,                      # Evaluation frequency\n",
        "    logging_steps=100,\n",
        "    save_steps=500,\n",
        "    learning_rate=5e-5,\n",
        "    weight_decay=0.01,\n",
        "    report_to=\"none\",                    # Set to \"tensorboard\" or \"wandb\" if desired\n",
        ")\n",
        "\n",
        "# Initialize the Trainer\n",
        "trainer = Trainer(\n",
        "    model=model,\n",
        "    args=training_args,\n",
        "    data_collator=data_collator,\n",
        "    train_dataset=train_dataset,\n",
        "    eval_dataset=val_dataset,\n",
        ")\n",
        "\n",
        "# Start fine-tuning the model\n",
        "trainer.train()\n",
        "\n",
        "# Save the fine-tuned model and tokenizer for later use\n",
        "model.save_pretrained(\"./gpt2-finetuned-alu\")\n",
        "tokenizer.save_pretrained(\"./gpt2-finetuned-alu\")\n"
      ]
    },
    {
      "cell_type": "markdown",
      "source": [
        "3. Evaluation"
      ],
      "metadata": {
        "id": "cF8RdH0STsEW"
      }
    },
    {
      "cell_type": "code",
      "source": [
        "import os\n",
        "import re\n",
        "import torch\n",
        "import matplotlib.pyplot as plt\n",
        "from transformers import GPT2LMHeadModel, PreTrainedTokenizerFast\n",
        "from nltk.translate.bleu_score import sentence_bleu, SmoothingFunction\n",
        "\n",
        "# Load fine-tuned GPT-2 model and tokenizer using consistent classes\n",
        "model_dir = \"./gpt2-finetuned-alu\"\n",
        "model = GPT2LMHeadModel.from_pretrained(model_dir)\n",
        "tokenizer = PreTrainedTokenizerFast.from_pretrained(model_dir)\n",
        "model.eval()\n",
        "\n",
        "def compute_f1(prediction, reference):\n",
        "    pred_tokens = prediction.split()\n",
        "    ref_tokens = reference.split()\n",
        "    common = set(pred_tokens) & set(ref_tokens)\n",
        "    if not common:\n",
        "        return 0.0\n",
        "    precision = len(common) / len(pred_tokens)\n",
        "    recall = len(common) / len(ref_tokens)\n",
        "    if precision + recall == 0:\n",
        "        return 0.0\n",
        "    return 2 * (precision * recall) / (precision + recall)\n",
        "\n",
        "# Load evaluation prompts and references\n",
        "with open(\"./data/ALU_val2.txt\", \"r\", encoding=\"utf-8\") as f:\n",
        "    eval_data = f.read()\n",
        "\n",
        "pattern = r\"\\[Prompt \\d+\\]\\s*Q:\\s*(.*?)\\s*A:\\s*(.*?)\\s*(?=\\[Prompt \\d+\\]|$)\"\n",
        "matches = re.findall(pattern, eval_data, re.DOTALL)\n",
        "prompts, references = zip(*[(m[0].strip(), m[1].strip()) for m in matches])\n",
        "\n",
        "# Evaluate each prompt\n",
        "bleu_scores, f1_scores, generated_responses = [], [], []\n",
        "for prompt, ref in zip(prompts, references):\n",
        "    input_ids = tokenizer.encode(prompt, return_tensors=\"pt\")\n",
        "    attention_mask = torch.ones_like(input_ids)  # attention_mask added\n",
        "    with torch.no_grad():\n",
        "        output_ids = model.generate(\n",
        "            input_ids,\n",
        "            attention_mask=attention_mask,\n",
        "            max_length=100,                  # Reduced length for concise answers\n",
        "            num_beams=7,                     # Increased beams for better quality\n",
        "            no_repeat_ngram_size=3,          # Higher ngram for reduced repetition\n",
        "            temperature=0.7,                 # More controlled generation\n",
        "            top_p=0.9,                       # Nucleus sampling\n",
        "            early_stopping=True,\n",
        "            pad_token_id=tokenizer.eos_token_id\n",
        "        )\n",
        "    generated_text = tokenizer.decode(output_ids[0], skip_special_tokens=True)\n",
        "    # Remove the prompt if it is repeated\n",
        "    if generated_text.startswith(prompt):\n",
        "        generated_text = generated_text[len(prompt):].strip()\n",
        "    # Limit the generated answer to just one line:\n",
        "    generated_text = generated_text.split(\"\\n\")[0].strip()\n",
        "    generated_responses.append(generated_text)\n",
        "\n",
        "    smoothing_fn = SmoothingFunction().method1\n",
        "    bleu = sentence_bleu([ref.split()], generated_text.split(), smoothing_function=smoothing_fn)\n",
        "    f1 = compute_f1(generated_text, ref)\n",
        "    bleu_scores.append(bleu)\n",
        "    f1_scores.append(f1)\n",
        "\n",
        "    print(f\"Prompt: {prompt}\\nReference: {ref}\\nGenerated: {generated_text}\\nBLEU: {bleu:.4f}, F1: {f1:.4f}\\n\" + \"-\"*50)\n",
        "\n",
        "# Plot BLEU and F1 scores\n",
        "x = range(1, len(prompts) + 1)\n",
        "plt.figure(figsize=(12, 5))\n",
        "plt.subplot(1, 2, 1)\n",
        "plt.bar(x, bleu_scores, color='skyblue')\n",
        "plt.xlabel(\"Prompt Number\")\n",
        "plt.ylabel(\"BLEU Score\")\n",
        "plt.title(\"BLEU Scores per Prompt\")\n",
        "\n",
        "plt.subplot(1, 2, 2)\n",
        "plt.bar(x, f1_scores, color='lightgreen')\n",
        "plt.xlabel(\"Prompt Number\")\n",
        "plt.ylabel(\"F1 Score\")\n",
        "plt.title(\"F1 Scores per Prompt\")\n",
        "\n",
        "plt.tight_layout()\n",
        "plt.show()\n",
        "\n",
        "# Summary Metrics\n",
        "print(f\"Average BLEU Score: {sum(bleu_scores)/len(bleu_scores):.4f}\")\n",
        "print(f\"Average F1 Score: {sum(f1_scores)/len(f1_scores):.4f}\")\n"
      ],
      "metadata": {
        "colab": {
          "base_uri": "https://localhost:8080/",
          "height": 1000
        },
        "id": "qI0rFDtkQcz9",
        "outputId": "e4548216-8cbd-4831-a363-a56dd8983fa1"
      },
      "execution_count": 60,
      "outputs": [
        {
          "output_type": "stream",
          "name": "stderr",
          "text": [
            "The tokenizer class you load from this checkpoint is not the same type as the class this function is called from. It may result in unexpected tokenization. \n",
            "The tokenizer class you load from this checkpoint is 'GPT2Tokenizer'. \n",
            "The class this function is called from is 'PreTrainedTokenizerFast'.\n"
          ]
        },
        {
          "output_type": "stream",
          "name": "stdout",
          "text": [
            "Prompt: What is African Leadership University (ALU)?\n",
            "Reference: ALU is committed to transforming higher education in Africa by developing ethical and entrepreneurial leaders. It has campuses in Rwanda and Mauritius and offers a unique learning experience focused on real-world problem-solving and leadership development.\n",
            "Generated: ALU is committed to transforming higher education in Africa by developing ethical and entrepreneurial leaders. It has campuses in Rwanda and Mauritius and offers a unique learning experience focused on real-world problem-solving, leadership development, and community engagement.\n",
            "BLEU: 0.8439, F1: 0.8056\n",
            "--------------------------------------------------\n",
            "Prompt: What is the BSc (Hons) International Business and Trade program about?\n",
            "Reference: It prepares leaders to navigate global business complexities and drive Africa’s economic integration, covering topics like international trade, regional integration, and global supply chain management.\n",
            "Generated: It prepares leaders to navigate global business complexities and drive Africa’s economic integration, covering topics like international trade, regional integration, and global supply chain management. It also nurtures future leaders with entrepreneurial skills, focusing on real-world problem-solving, leadership development, and leadership development through experiential learning, including internships and community projects.\n",
            "BLEU: 0.4841, F1: 0.5867\n",
            "--------------------------------------------------\n",
            "Prompt: How long does the BSc (Hons) International Business and Trade program take to complete?\n",
            "Reference: 3 years.\n",
            "Generated: 3 years.\n",
            "BLEU: 0.3162, F1: 1.0000\n",
            "--------------------------------------------------\n",
            "Prompt: What is the BSc (Hons) Entrepreneurial Leadership program about?\n",
            "Reference: It nurtures future leaders with entrepreneurial skills, focusing on innovation, problem-solving, and leadership through experiential learning, including internships and community projects.\n",
            "Generated: It prepares leaders to navigate global business complexities and drive Africa’s economic integration, covering topics like international trade, regional integration, and global supply chain management. It also nurtures future leaders with entrepreneurial skills, focusing on real-world problem-solving, leadership development, and leadership development through experiential learning, including internships and community projects.\n",
            "BLEU: 0.2841, F1: 0.5352\n",
            "--------------------------------------------------\n",
            "Prompt: What is the duration of the BSc (Hons) Entrepreneurial Leadership program?\n",
            "Reference: 3 years.\n",
            "Generated: 3 years.\n",
            "BLEU: 0.3162, F1: 1.0000\n",
            "--------------------------------------------------\n",
            "Prompt: How long is the BSc (Hons) Software Engineering program?\n",
            "Reference: 3 years.\n",
            "Generated: 3 years.\n",
            "BLEU: 0.3162, F1: 1.0000\n",
            "--------------------------------------------------\n",
            "Prompt: What are the general admission requirements at ALU?\n",
            "Reference: Applicants must have at least two principal passes in final national secondary school examinations, demonstrate English proficiency at a B2 level, and be at least 16 years old.\n",
            "Generated: Applicants must have at least two principal passes in final national secondary school examinations, demonstrate English proficiency at a B2 level, and be at least 16 years old.\n",
            "BLEU: 1.0000, F1: 0.8929\n",
            "--------------------------------------------------\n",
            "Prompt: Can I transfer to ALU from another university?\n",
            "Reference: Yes, but transfer credits are reviewed individually and are not guaranteed.\n",
            "Generated: Yes, but transfer credits are reviewed individually and are not guaranteed.\n",
            "BLEU: 1.0000, F1: 0.9091\n",
            "--------------------------------------------------\n",
            "Prompt: How long does it take to receive an admissions decision?\n",
            "Reference: Decisions are typically provided within two weeks of submission.\n",
            "Generated: Decisions are typically provided within two weeks of submission.\n",
            "BLEU: 1.0000, F1: 1.0000\n",
            "--------------------------------------------------\n"
          ]
        },
        {
          "output_type": "display_data",
          "data": {
            "text/plain": [
              "<Figure size 1200x500 with 2 Axes>"
            ],
            "image/png": "[encoded data removed]"
          },
          "metadata": {}
        },
        {
          "output_type": "stream",
          "name": "stdout",
          "text": [
            "Average BLEU Score: 0.6179\n",
            "Average F1 Score: 0.8588\n"
          ]
        }
      ]
    },
    {
      "cell_type": "code",
      "source": [
        "!pip install -q gradio"
      ],
      "metadata": {
        "id": "bsASysOcSMsy"
      },
      "execution_count": 45,
      "outputs": []
    },
    {
      "cell_type": "code",
      "source": [
        "import gradio as gr\n",
        "import torch\n",
        "from transformers import GPT2LMHeadModel, GPT2TokenizerFast\n",
        "\n",
        "# Load the fine-tuned GPT-2 model and tokenizer\n",
        "model_dir = \"./gpt2-finetuned-alu\"\n",
        "model = GPT2LMHeadModel.from_pretrained(model_dir)\n",
        "tokenizer = GPT2TokenizerFast.from_pretrained(model_dir)\n",
        "model.eval()\n",
        "\n",
        "# Generation function\n",
        "def generate_response(message, history):\n",
        "    \"\"\"\n",
        "    Generate a response from GPT-2 based on user input and chat history,\n",
        "    and limit the answer to one line.\n",
        "    \"\"\"\n",
        "    # Combine previous history into context\n",
        "    context = \"\"\n",
        "    for user_msg, bot_msg in history:\n",
        "        context += f\"User: {user_msg}\\nAI: {bot_msg}\\n\"\n",
        "    context += f\"User: {message}\\nAI:\"\n",
        "\n",
        "    # Encode the context\n",
        "    input_ids = tokenizer.encode(context, return_tensors=\"pt\", max_length=1024, truncation=True)\n",
        "    attention_mask = torch.ones_like(input_ids)  # Attention mask\n",
        "\n",
        "    # Generate response\n",
        "    with torch.no_grad():\n",
        "        output_ids = model.generate(\n",
        "            input_ids,\n",
        "            attention_mask=attention_mask,\n",
        "            max_length=150,\n",
        "            num_beams=5,\n",
        "            no_repeat_ngram_size=2,\n",
        "            early_stopping=True,\n",
        "            pad_token_id=tokenizer.eos_token_id\n",
        "        )\n",
        "    generated_text = tokenizer.decode(output_ids[0], skip_special_tokens=True)\n",
        "\n",
        "    # Extract the AI's new response from the generated text\n",
        "    response = generated_text.split(\"AI:\")[-1].strip()\n",
        "    # Limit the answer to just one line: take the text before the first newline\n",
        "    response = response.split(\"\\n\")[0].strip()\n",
        "\n",
        "    # Append the new exchange to history\n",
        "    history.append((message, response))\n",
        "    return history, history\n",
        "\n",
        "# 💬 Gradio Chatbot Interface\n",
        "with gr.Blocks(css=\"\"\"\n",
        "    .chatbox {display: flex; flex-direction: column; height: 600px; overflow-y: auto; padding: 10px; background-color: #f9f9f9; border-radius: 10px;}\n",
        "    .message {max-width: 70%; padding: 10px; margin-bottom: 10px; border-radius: 10px; line-height: 1.5;}\n",
        "    .user {align-self: flex-start; background-color: #d1e7dd; color: #0f5132;}\n",
        "    .ai {align-self: flex-end; background-color: #cfe2ff; color: #084298;}\n",
        "\"\"\") as iface:\n",
        "    gr.Markdown(\"# 🤖 **ALU Chatbot**\\nAsk me anything about African Leadership University — Admissions, Programs, or Financial Aid!\")\n",
        "\n",
        "    chatbot = gr.Chatbot(label=\"Chat History\", elem_id=\"chatbot\", height=500)\n",
        "\n",
        "    with gr.Row():\n",
        "        user_input = gr.Textbox(\n",
        "            show_label=False,\n",
        "            placeholder=\"How can I help?\",\n",
        "            lines=1,\n",
        "            scale=10\n",
        "        )\n",
        "        send_button = gr.Button(\"Send\", scale=1)\n",
        "\n",
        "    # State to store conversation history\n",
        "    state = gr.State([])\n",
        "\n",
        "    # Submit interaction\n",
        "    user_input.submit(generate_response, [user_input, state], [chatbot, state])\n",
        "    send_button.click(generate_response, [user_input, state], [chatbot, state])\n",
        "\n",
        "# Launch with a shareable link\n",
        "iface.launch(share=True)\n"
      ],
      "metadata": {
        "colab": {
          "base_uri": "https://localhost:8080/",
          "height": 646
        },
        "id": "rnUEoID9R9i2",
        "outputId": "828a7f22-6e3d-4fe4-941d-e44d52f5054b"
      },
      "execution_count": 61,
      "outputs": [
        {
          "output_type": "stream",
          "name": "stderr",
          "text": [
            "/usr/local/lib/python3.11/dist-packages/gradio/components/chatbot.py:285: UserWarning: You have not specified a value for the `type` parameter. Defaulting to the 'tuples' format for chatbot messages, but this is deprecated and will be removed in a future version of Gradio. Please set type='messages' instead, which uses openai-style dictionaries with 'role' and 'content' keys.\n",
            "  warnings.warn(\n"
          ]
        },
        {
          "output_type": "stream",
          "name": "stdout",
          "text": [
            "Colab notebook detected. To show errors in colab notebook, set debug=True in launch()\n",
            "* Running on public URL: https://bae2a8b43caba35351.gradio.live\n",
            "\n",
            "This share link expires in 72 hours. For free permanent hosting and GPU upgrades, run `gradio deploy` from the terminal in the working directory to deploy to Hugging Face Spaces (https://huggingface.co/spaces)\n"
          ]
        },
        {
          "output_type": "display_data",
          "data": {
            "text/plain": [
              "<IPython.core.display.HTML object>"
            ],
            "text/html": [
              "<div><iframe src=\"https://bae2a8b43caba35351.gradio.live\" width=\"100%\" height=\"500\" allow=\"autoplay; camera; microphone; clipboard-read; clipboard-write;\" frameborder=\"0\" allowfullscreen></iframe></div>"
            ]
          },
          "metadata": {}
        },
        {
          "output_type": "execute_result",
          "data": {
            "text/plain": []
          },
          "metadata": {},
          "execution_count": 61
        }
      ]
    }
  ]
}